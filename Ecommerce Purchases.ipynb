{
 "cells": [
  {
   "cell_type": "code",
   "execution_count": 1,
   "metadata": {},
   "outputs": [],
   "source": [
    "import numpy as np\n",
    "import pandas as pd"
   ]
  },
  {
   "cell_type": "code",
   "execution_count": 2,
   "metadata": {},
   "outputs": [],
   "source": [
    "ecom = pd.read_csv(\"C:\\\\Users\\\\hp\\\\Desktop\\\\Python n DS\\\\Ecommerce Purchases.csv\")"
   ]
  },
  {
   "cell_type": "code",
   "execution_count": 4,
   "metadata": {},
   "outputs": [
    {
     "data": {
      "text/html": [
       "<div>\n",
       "<style scoped>\n",
       "    .dataframe tbody tr th:only-of-type {\n",
       "        vertical-align: middle;\n",
       "    }\n",
       "\n",
       "    .dataframe tbody tr th {\n",
       "        vertical-align: top;\n",
       "    }\n",
       "\n",
       "    .dataframe thead th {\n",
       "        text-align: right;\n",
       "    }\n",
       "</style>\n",
       "<table border=\"1\" class=\"dataframe\">\n",
       "  <thead>\n",
       "    <tr style=\"text-align: right;\">\n",
       "      <th></th>\n",
       "      <th>Address</th>\n",
       "      <th>Lot</th>\n",
       "      <th>AM or PM</th>\n",
       "      <th>Browser Info</th>\n",
       "      <th>Company</th>\n",
       "      <th>Credit Card</th>\n",
       "      <th>CC Exp Date</th>\n",
       "      <th>CC Security Code</th>\n",
       "      <th>CC Provider</th>\n",
       "      <th>Email</th>\n",
       "      <th>Job</th>\n",
       "      <th>IP Address</th>\n",
       "      <th>Language</th>\n",
       "      <th>Purchase Price</th>\n",
       "    </tr>\n",
       "  </thead>\n",
       "  <tbody>\n",
       "    <tr>\n",
       "      <th>0</th>\n",
       "      <td>16629 Pace Camp Apt. 448\\nAlexisborough, NE 77...</td>\n",
       "      <td>46 in</td>\n",
       "      <td>PM</td>\n",
       "      <td>Opera/9.56.(X11; Linux x86_64; sl-SI) Presto/2...</td>\n",
       "      <td>Martinez-Herman</td>\n",
       "      <td>6011929061123406</td>\n",
       "      <td>02/20</td>\n",
       "      <td>900</td>\n",
       "      <td>JCB 16 digit</td>\n",
       "      <td>pdunlap@yahoo.com</td>\n",
       "      <td>Scientist, product/process development</td>\n",
       "      <td>149.146.147.205</td>\n",
       "      <td>el</td>\n",
       "      <td>98.14</td>\n",
       "    </tr>\n",
       "    <tr>\n",
       "      <th>1</th>\n",
       "      <td>9374 Jasmine Spurs Suite 508\\nSouth John, TN 8...</td>\n",
       "      <td>28 rn</td>\n",
       "      <td>PM</td>\n",
       "      <td>Opera/8.93.(Windows 98; Win 9x 4.90; en-US) Pr...</td>\n",
       "      <td>Fletcher, Richards and Whitaker</td>\n",
       "      <td>3337758169645356</td>\n",
       "      <td>11/18</td>\n",
       "      <td>561</td>\n",
       "      <td>Mastercard</td>\n",
       "      <td>anthony41@reed.com</td>\n",
       "      <td>Drilling engineer</td>\n",
       "      <td>15.160.41.51</td>\n",
       "      <td>fr</td>\n",
       "      <td>70.73</td>\n",
       "    </tr>\n",
       "  </tbody>\n",
       "</table>\n",
       "</div>"
      ],
      "text/plain": [
       "                                             Address    Lot AM or PM  \\\n",
       "0  16629 Pace Camp Apt. 448\\nAlexisborough, NE 77...  46 in       PM   \n",
       "1  9374 Jasmine Spurs Suite 508\\nSouth John, TN 8...  28 rn       PM   \n",
       "\n",
       "                                        Browser Info  \\\n",
       "0  Opera/9.56.(X11; Linux x86_64; sl-SI) Presto/2...   \n",
       "1  Opera/8.93.(Windows 98; Win 9x 4.90; en-US) Pr...   \n",
       "\n",
       "                           Company       Credit Card CC Exp Date  \\\n",
       "0                  Martinez-Herman  6011929061123406       02/20   \n",
       "1  Fletcher, Richards and Whitaker  3337758169645356       11/18   \n",
       "\n",
       "   CC Security Code   CC Provider               Email  \\\n",
       "0               900  JCB 16 digit   pdunlap@yahoo.com   \n",
       "1               561    Mastercard  anthony41@reed.com   \n",
       "\n",
       "                                      Job       IP Address Language  \\\n",
       "0  Scientist, product/process development  149.146.147.205       el   \n",
       "1                       Drilling engineer     15.160.41.51       fr   \n",
       "\n",
       "   Purchase Price  \n",
       "0           98.14  \n",
       "1           70.73  "
      ]
     },
     "execution_count": 4,
     "metadata": {},
     "output_type": "execute_result"
    }
   ],
   "source": [
    "ecom.head(2)"
   ]
  },
  {
   "cell_type": "code",
   "execution_count": 5,
   "metadata": {},
   "outputs": [
    {
     "data": {
      "text/plain": [
       "(10000, 14)"
      ]
     },
     "execution_count": 5,
     "metadata": {},
     "output_type": "execute_result"
    }
   ],
   "source": [
    "ecom.shape"
   ]
  },
  {
   "cell_type": "code",
   "execution_count": 6,
   "metadata": {},
   "outputs": [
    {
     "name": "stdout",
     "output_type": "stream",
     "text": [
      "<class 'pandas.core.frame.DataFrame'>\n",
      "RangeIndex: 10000 entries, 0 to 9999\n",
      "Data columns (total 14 columns):\n",
      "Address             10000 non-null object\n",
      "Lot                 10000 non-null object\n",
      "AM or PM            10000 non-null object\n",
      "Browser Info        10000 non-null object\n",
      "Company             10000 non-null object\n",
      "Credit Card         10000 non-null int64\n",
      "CC Exp Date         10000 non-null object\n",
      "CC Security Code    10000 non-null int64\n",
      "CC Provider         10000 non-null object\n",
      "Email               10000 non-null object\n",
      "Job                 10000 non-null object\n",
      "IP Address          10000 non-null object\n",
      "Language            10000 non-null object\n",
      "Purchase Price      10000 non-null float64\n",
      "dtypes: float64(1), int64(2), object(11)\n",
      "memory usage: 1.1+ MB\n"
     ]
    }
   ],
   "source": [
    "ecom.info()"
   ]
  },
  {
   "cell_type": "code",
   "execution_count": 7,
   "metadata": {},
   "outputs": [
    {
     "data": {
      "text/plain": [
       "50.34730200000025"
      ]
     },
     "execution_count": 7,
     "metadata": {},
     "output_type": "execute_result"
    }
   ],
   "source": [
    "ecom['Purchase Price'].mean()"
   ]
  },
  {
   "cell_type": "code",
   "execution_count": 8,
   "metadata": {},
   "outputs": [
    {
     "data": {
      "text/plain": [
       "99.99"
      ]
     },
     "execution_count": 8,
     "metadata": {},
     "output_type": "execute_result"
    }
   ],
   "source": [
    "ecom['Purchase Price'].max()"
   ]
  },
  {
   "cell_type": "code",
   "execution_count": 9,
   "metadata": {},
   "outputs": [
    {
     "data": {
      "text/plain": [
       "0.0"
      ]
     },
     "execution_count": 9,
     "metadata": {},
     "output_type": "execute_result"
    }
   ],
   "source": [
    "ecom['Purchase Price'].min()"
   ]
  },
  {
   "cell_type": "code",
   "execution_count": 10,
   "metadata": {},
   "outputs": [
    {
     "data": {
      "text/plain": [
       "Address             1098\n",
       "Lot                 1098\n",
       "AM or PM            1098\n",
       "Browser Info        1098\n",
       "Company             1098\n",
       "Credit Card         1098\n",
       "CC Exp Date         1098\n",
       "CC Security Code    1098\n",
       "CC Provider         1098\n",
       "Email               1098\n",
       "Job                 1098\n",
       "IP Address          1098\n",
       "Language            1098\n",
       "Purchase Price      1098\n",
       "dtype: int64"
      ]
     },
     "execution_count": 10,
     "metadata": {},
     "output_type": "execute_result"
    }
   ],
   "source": [
    "ecom[ecom['Language'] == 'en'].count()"
   ]
  },
  {
   "cell_type": "code",
   "execution_count": null,
   "metadata": {},
   "outputs": [],
   "source": []
  },
  {
   "cell_type": "code",
   "execution_count": 16,
   "metadata": {},
   "outputs": [
    {
     "data": {
      "text/plain": [
       "Address             30\n",
       "Lot                 30\n",
       "AM or PM            30\n",
       "Browser Info        30\n",
       "Company             30\n",
       "Credit Card         30\n",
       "CC Exp Date         30\n",
       "CC Security Code    30\n",
       "CC Provider         30\n",
       "Email               30\n",
       "Job                 30\n",
       "IP Address          30\n",
       "Language            30\n",
       "Purchase Price      30\n",
       "dtype: int64"
      ]
     },
     "execution_count": 16,
     "metadata": {},
     "output_type": "execute_result"
    }
   ],
   "source": [
    "ecom[ecom['Job'] == 'Lawyer'].count()"
   ]
  },
  {
   "cell_type": "code",
   "execution_count": 22,
   "metadata": {},
   "outputs": [
    {
     "data": {
      "text/plain": [
       "PM    5068\n",
       "AM    4932\n",
       "Name: AM or PM, dtype: int64"
      ]
     },
     "execution_count": 22,
     "metadata": {},
     "output_type": "execute_result"
    }
   ],
   "source": [
    "ecom['AM or PM'].value_counts()"
   ]
  },
  {
   "cell_type": "code",
   "execution_count": 23,
   "metadata": {},
   "outputs": [
    {
     "data": {
      "text/plain": [
       "Interior and spatial designer        31\n",
       "Lawyer                               30\n",
       "Social researcher                    28\n",
       "Designer, jewellery                  27\n",
       "Research officer, political party    27\n",
       "Name: Job, dtype: int64"
      ]
     },
     "execution_count": 23,
     "metadata": {},
     "output_type": "execute_result"
    }
   ],
   "source": [
    "ecom['Job'].value_counts().head()"
   ]
  },
  {
   "cell_type": "code",
   "execution_count": 24,
   "metadata": {},
   "outputs": [
    {
     "data": {
      "text/plain": [
       "513    75.1\n",
       "Name: Purchase Price, dtype: float64"
      ]
     },
     "execution_count": 24,
     "metadata": {},
     "output_type": "execute_result"
    }
   ],
   "source": [
    "ecom[ecom['Lot'] == '90 WT']['Purchase Price']"
   ]
  },
  {
   "cell_type": "code",
   "execution_count": 27,
   "metadata": {},
   "outputs": [
    {
     "data": {
      "text/plain": [
       "1234    bondellen@williams-garza.com\n",
       "Name: Email, dtype: object"
      ]
     },
     "execution_count": 27,
     "metadata": {},
     "output_type": "execute_result"
    }
   ],
   "source": [
    "ecom[ecom['Credit Card'] == 4926535242672853]['Email']"
   ]
  },
  {
   "cell_type": "code",
   "execution_count": 42,
   "metadata": {},
   "outputs": [
    {
     "data": {
      "text/plain": [
       "Address             39\n",
       "Lot                 39\n",
       "AM or PM            39\n",
       "Browser Info        39\n",
       "Company             39\n",
       "Credit Card         39\n",
       "CC Exp Date         39\n",
       "CC Security Code    39\n",
       "CC Provider         39\n",
       "Email               39\n",
       "Job                 39\n",
       "IP Address          39\n",
       "Language            39\n",
       "Purchase Price      39\n",
       "dtype: int64"
      ]
     },
     "execution_count": 42,
     "metadata": {},
     "output_type": "execute_result"
    }
   ],
   "source": [
    "ecom[(ecom['CC Provider'] == 'American Express') & (ecom['Purchase Price'] > 95.0)].count()"
   ]
  },
  {
   "cell_type": "code",
   "execution_count": 43,
   "metadata": {},
   "outputs": [
    {
     "data": {
      "text/plain": [
       "39"
      ]
     },
     "execution_count": 43,
     "metadata": {},
     "output_type": "execute_result"
    }
   ],
   "source": [
    "ecom[(ecom['CC Provider'] == 'American Express') & (ecom['Purchase Price'] > 95.0)].shape[0]"
   ]
  },
  {
   "cell_type": "code",
   "execution_count": 45,
   "metadata": {},
   "outputs": [
    {
     "data": {
      "text/plain": [
       "4932"
      ]
     },
     "execution_count": 45,
     "metadata": {},
     "output_type": "execute_result"
    }
   ],
   "source": [
    "ecom[ecom['AM or PM'] == 'AM'].shape[0]"
   ]
  },
  {
   "cell_type": "code",
   "execution_count": 47,
   "metadata": {},
   "outputs": [
    {
     "data": {
      "text/plain": [
       "Interior and spatial designer                                  31\n",
       "Lawyer                                                         30\n",
       "Social researcher                                              28\n",
       "Designer, jewellery                                            27\n",
       "Research officer, political party                              27\n",
       "Purchasing manager                                             27\n",
       "Special educational needs teacher                              26\n",
       "Dietitian                                                      26\n",
       "Charity fundraiser                                             26\n",
       "Designer, fashion/clothing                                     26\n",
       "Social worker                                                  26\n",
       "Radio broadcast assistant                                      25\n",
       "Sports therapist                                               25\n",
       "Advice worker                                                  25\n",
       "Network engineer                                               25\n",
       "Psychologist, clinical                                         25\n",
       "Engineer, water                                                25\n",
       "Therapist, art                                                 25\n",
       "Designer, interior/spatial                                     25\n",
       "Secretary/administrator                                        25\n",
       "Wellsite geologist                                             24\n",
       "Civil engineer, contracting                                    24\n",
       "Television camera operator                                     24\n",
       "Hydrologist                                                    24\n",
       "Geneticist, molecular                                          24\n",
       "Scientist, clinical (histocompatibility and immunogenetics)    24\n",
       "Psychotherapist, dance movement                                24\n",
       "Armed forces technical officer                                 24\n",
       "Buyer, retail                                                  23\n",
       "Careers adviser                                                23\n",
       "                                                               ..\n",
       "Marketing executive                                             9\n",
       "Surveyor, commercial/residential                                9\n",
       "Administrator, local government                                 9\n",
       "Engineer, technical sales                                       9\n",
       "Senior tax professional/tax inspector                           9\n",
       "Financial risk analyst                                          9\n",
       "Investment banker, operational                                  9\n",
       "Sales promotion account executive                               9\n",
       "Armed forces training and education officer                     9\n",
       "Doctor, general practice                                        9\n",
       "Adult nurse                                                     9\n",
       "Forensic psychologist                                           9\n",
       "Toxicologist                                                    9\n",
       "Trade union research officer                                    9\n",
       "Nurse, learning disability                                      8\n",
       "Exhibitions officer, museum/gallery                             8\n",
       "Art gallery manager                                             8\n",
       "Child psychotherapist                                           8\n",
       "Bookseller                                                      8\n",
       "Audiological scientist                                          8\n",
       "Technical brewer                                                8\n",
       "Diplomatic Services operational officer                         8\n",
       "Music therapist                                                 7\n",
       "Stage manager                                                   7\n",
       "Special effects artist                                          7\n",
       "Prison officer                                                  7\n",
       "Actuary                                                         6\n",
       "Editor, film/video                                              6\n",
       "Information systems manager                                     5\n",
       "Investment analyst                                              5\n",
       "Name: Job, Length: 623, dtype: int64"
      ]
     },
     "execution_count": 47,
     "metadata": {},
     "output_type": "execute_result"
    }
   ],
   "source": [
    "ecom['Job'].value_counts()"
   ]
  },
  {
   "cell_type": "code",
   "execution_count": 62,
   "metadata": {},
   "outputs": [
    {
     "data": {
      "text/plain": [
       "Job\n",
       "Academic librarian                                   527.47\n",
       "Accommodation manager                                629.65\n",
       "Accountant, chartered                               1051.31\n",
       "Accountant, chartered certified                     1043.01\n",
       "Accountant, chartered management                    1036.24\n",
       "Accountant, chartered public finance                 476.42\n",
       "Accounting technician                                516.75\n",
       "Actor                                                597.89\n",
       "Actuary                                              262.72\n",
       "Acupuncturist                                        811.12\n",
       "Administrator                                        859.06\n",
       "Administrator, Civil Service                         552.88\n",
       "Administrator, arts                                 1173.97\n",
       "Administrator, charities/voluntary organisations     593.34\n",
       "Administrator, education                             604.12\n",
       "Administrator, local government                      562.13\n",
       "Administrator, sports                                537.20\n",
       "Adult guidance worker                               1009.91\n",
       "Adult nurse                                          562.07\n",
       "Advertising account executive                        623.78\n",
       "Advertising account planner                          924.48\n",
       "Advertising art director                            1113.19\n",
       "Advertising copywriter                               661.33\n",
       "Advice worker                                       1355.13\n",
       "Aeronautical engineer                                563.71\n",
       "Agricultural consultant                             1037.72\n",
       "Agricultural engineer                                580.94\n",
       "Aid worker                                           990.69\n",
       "Air broker                                          1097.74\n",
       "Air cabin crew                                      1096.11\n",
       "                                                     ...   \n",
       "Therapist, nutritional                               628.17\n",
       "Therapist, occupational                              492.39\n",
       "Therapist, speech and language                       583.61\n",
       "Therapist, sports                                   1003.02\n",
       "Tour manager                                         471.90\n",
       "Tourism officer                                      524.07\n",
       "Tourist information centre manager                   710.68\n",
       "Town planner                                         848.99\n",
       "Toxicologist                                         470.10\n",
       "Trade mark attorney                                  811.83\n",
       "Trade union research officer                         574.66\n",
       "Trading standards officer                            502.26\n",
       "Training and development officer                     928.41\n",
       "Translator                                          1203.22\n",
       "Transport planner                                    799.56\n",
       "Travel agency manager                                652.16\n",
       "Tree surgeon                                         649.18\n",
       "Veterinary surgeon                                   806.52\n",
       "Video editor                                         869.18\n",
       "Visual merchandiser                                  542.05\n",
       "Volunteer coordinator                                952.66\n",
       "Warden/ranger                                        925.65\n",
       "Warehouse manager                                    584.28\n",
       "Waste management officer                             559.35\n",
       "Water engineer                                       701.43\n",
       "Water quality scientist                              837.47\n",
       "Web designer                                        1195.29\n",
       "Wellsite geologist                                  1231.42\n",
       "Writer                                               448.63\n",
       "Youth worker                                         729.24\n",
       "Name: Purchase Price, Length: 623, dtype: float64"
      ]
     },
     "execution_count": 62,
     "metadata": {},
     "output_type": "execute_result"
    }
   ],
   "source": [
    "ecom.groupby('Job')['Purchase Price'].sum()"
   ]
  },
  {
   "cell_type": "code",
   "execution_count": 56,
   "metadata": {},
   "outputs": [
    {
     "data": {
      "text/plain": [
       "Job\n",
       "Academic librarian                                  47.951818\n",
       "Accommodation manager                               37.038235\n",
       "Accountant, chartered                               52.565500\n",
       "Accountant, chartered certified                     57.945000\n",
       "Accountant, chartered management                    69.082667\n",
       "Accountant, chartered public finance                36.647692\n",
       "Accounting technician                               43.062500\n",
       "Actor                                               39.859333\n",
       "Actuary                                             43.786667\n",
       "Acupuncturist                                       47.712941\n",
       "Administrator                                       53.691250\n",
       "Administrator, Civil Service                        42.529231\n",
       "Administrator, arts                                 51.042174\n",
       "Administrator, charities/voluntary organisations    39.556000\n",
       "Administrator, education                            40.274667\n",
       "Administrator, local government                     62.458889\n",
       "Administrator, sports                               48.836364\n",
       "Adult guidance worker                               50.495500\n",
       "Adult nurse                                         62.452222\n",
       "Advertising account executive                       47.983077\n",
       "Advertising account planner                         66.034286\n",
       "Advertising art director                            55.659500\n",
       "Advertising copywriter                              50.871538\n",
       "Advice worker                                       54.205200\n",
       "Aeronautical engineer                               46.975833\n",
       "Agricultural consultant                             61.042353\n",
       "Agricultural engineer                               44.687692\n",
       "Aid worker                                          55.038333\n",
       "Air broker                                          57.775789\n",
       "Air cabin crew                                      54.805500\n",
       "                                                      ...    \n",
       "Therapist, nutritional                              52.347500\n",
       "Therapist, occupational                             44.762727\n",
       "Therapist, speech and language                      53.055455\n",
       "Therapist, sports                                   52.790526\n",
       "Tour manager                                        47.190000\n",
       "Tourism officer                                     37.433571\n",
       "Tourist information centre manager                  54.667692\n",
       "Town planner                                        53.061875\n",
       "Toxicologist                                        52.233333\n",
       "Trade mark attorney                                 73.802727\n",
       "Trade union research officer                        63.851111\n",
       "Trading standards officer                           41.855000\n",
       "Training and development officer                    44.210000\n",
       "Translator                                          70.777647\n",
       "Transport planner                                   49.972500\n",
       "Travel agency manager                               50.166154\n",
       "Tree surgeon                                        54.098333\n",
       "Veterinary surgeon                                  47.442353\n",
       "Video editor                                        51.128235\n",
       "Visual merchandiser                                 54.205000\n",
       "Volunteer coordinator                               52.925556\n",
       "Warden/ranger                                       42.075000\n",
       "Warehouse manager                                   44.944615\n",
       "Waste management officer                            50.850000\n",
       "Water engineer                                      46.762000\n",
       "Water quality scientist                             46.526111\n",
       "Web designer                                        59.764500\n",
       "Wellsite geologist                                  51.309167\n",
       "Writer                                              44.863000\n",
       "Youth worker                                        40.513333\n",
       "Name: Purchase Price, Length: 623, dtype: float64"
      ]
     },
     "execution_count": 56,
     "metadata": {},
     "output_type": "execute_result"
    }
   ],
   "source": []
  },
  {
   "cell_type": "code",
   "execution_count": 81,
   "metadata": {},
   "outputs": [
    {
     "data": {
      "text/plain": [
       "1098"
      ]
     },
     "execution_count": 81,
     "metadata": {},
     "output_type": "execute_result"
    }
   ],
   "source": [
    "sum(ecom['Language'] == 'en')"
   ]
  },
  {
   "cell_type": "code",
   "execution_count": null,
   "metadata": {},
   "outputs": [],
   "source": []
  },
  {
   "cell_type": "code",
   "execution_count": null,
   "metadata": {},
   "outputs": [],
   "source": []
  },
  {
   "cell_type": "code",
   "execution_count": null,
   "metadata": {},
   "outputs": [],
   "source": []
  },
  {
   "cell_type": "code",
   "execution_count": null,
   "metadata": {},
   "outputs": [],
   "source": []
  }
 ],
 "metadata": {
  "kernelspec": {
   "display_name": "Python 3",
   "language": "python",
   "name": "python3"
  },
  "language_info": {
   "codemirror_mode": {
    "name": "ipython",
    "version": 3
   },
   "file_extension": ".py",
   "mimetype": "text/x-python",
   "name": "python",
   "nbconvert_exporter": "python",
   "pygments_lexer": "ipython3",
   "version": "3.7.1"
  }
 },
 "nbformat": 4,
 "nbformat_minor": 2
}
